{
 "cells": [
  {
   "cell_type": "code",
   "execution_count": 1,
   "id": "ef1f21f9",
   "metadata": {},
   "outputs": [
    {
     "data": {
      "text/plain": [
       "'2.11.0'"
      ]
     },
     "execution_count": 1,
     "metadata": {},
     "output_type": "execute_result"
    }
   ],
   "source": [
    "import dvc\n",
    "dvc.__version__"
   ]
  },
  {
   "cell_type": "code",
   "execution_count": 4,
   "id": "51d92a40",
   "metadata": {},
   "outputs": [
    {
     "name": "stdout",
     "output_type": "stream",
     "text": [
      "Untitled.ipynb    configs           featurization.py  params.py\n",
      "__pycache__       data              models            split_dataset.py\n",
      "build_features.py evaluate.py       notebooks         train.py\n"
     ]
    }
   ],
   "source": [
    "!ls"
   ]
  },
  {
   "cell_type": "code",
   "execution_count": 3,
   "id": "282a8de6",
   "metadata": {},
   "outputs": [
    {
     "name": "stdout",
     "output_type": "stream",
     "text": [
      "Initialized empty Git repository in /Users/evgeniimunin/Documents/02_Medium/02_dvc/dvc-art/.git/\r\n"
     ]
    }
   ],
   "source": [
    "# initizalize git in our folder\n",
    "!git init"
   ]
  },
  {
   "cell_type": "code",
   "execution_count": 6,
   "id": "a65ffcdd",
   "metadata": {},
   "outputs": [
    {
     "name": "stdout",
     "output_type": "stream",
     "text": [
      "On branch master\n",
      "\n",
      "No commits yet\n",
      "\n",
      "Untracked files:\n",
      "  (use \"git add <file>...\" to include in what will be committed)\n",
      "\t.DS_Store\n",
      "\t.idea/\n",
      "\t.ipynb_checkpoints/\n",
      "\tUntitled.ipynb\n",
      "\t__pycache__/\n",
      "\tbuild_features.py\n",
      "\tconfigs/\n",
      "\tdata/\n",
      "\tevaluate.py\n",
      "\tfeaturization.py\n",
      "\tmodels/\n",
      "\tnotebooks/\n",
      "\tparams.py\n",
      "\tsplit_dataset.py\n",
      "\ttrain.py\n",
      "\n",
      "nothing added to commit but untracked files present (use \"git add\" to track)\n"
     ]
    }
   ],
   "source": [
    "!git status"
   ]
  },
  {
   "cell_type": "code",
   "execution_count": 7,
   "id": "2ad629c8",
   "metadata": {},
   "outputs": [],
   "source": [
    "import warnings\n",
    "warnings.filterwarnings('ignore')"
   ]
  },
  {
   "cell_type": "markdown",
   "id": "29ece924",
   "metadata": {},
   "source": [
    "#### Init DVC"
   ]
  },
  {
   "cell_type": "code",
   "execution_count": 8,
   "id": "fdb3a60d",
   "metadata": {},
   "outputs": [
    {
     "name": "stdout",
     "output_type": "stream",
     "text": [
      "Initialized DVC repository.\n",
      "\n",
      "You can now commit the changes to git.\n",
      "\n",
      "+---------------------------------------------------------------------+\n",
      "|                                                                     |\n",
      "|        DVC has enabled anonymous aggregate usage analytics.         |\n",
      "|     Read the analytics documentation (and how to opt-out) here:     |\n",
      "|             <https://dvc.org/doc/user-guide/analytics>              |\n",
      "|                                                                     |\n",
      "+---------------------------------------------------------------------+\n",
      "\n",
      "What's next?\n",
      "------------\n",
      "- Check out the documentation: <https://dvc.org/doc>\n",
      "- Get help and share ideas: <https://dvc.org/chat>\n",
      "- Star us on GitHub: <https://github.com/iterative/dvc>\n"
     ]
    }
   ],
   "source": [
    "# run dvc initialization in a repo directory to create DVC meta files and directories\n",
    "!dvc init"
   ]
  },
  {
   "cell_type": "markdown",
   "id": "5c9ba68b",
   "metadata": {},
   "source": [
    "#### Commit changes"
   ]
  },
  {
   "cell_type": "code",
   "execution_count": 11,
   "id": "a43cea1d",
   "metadata": {},
   "outputs": [
    {
     "name": "stdout",
     "output_type": "stream",
     "text": [
      "[master (root-commit) ad77694] initialize dvc\n",
      " 40 files changed, 43591 insertions(+)\n",
      " create mode 100644 .DS_Store\n",
      " create mode 100644 .dvc/.gitignore\n",
      " create mode 100644 .dvc/config\n",
      " create mode 100644 .dvcignore\n",
      " create mode 100644 .idea/.gitignore\n",
      " create mode 100644 .idea/dvc-art.iml\n",
      " create mode 100644 .idea/inspectionProfiles/profiles_settings.xml\n",
      " create mode 100644 .idea/misc.xml\n",
      " create mode 100644 .idea/modules.xml\n",
      " create mode 100644 .idea/vcs.xml\n",
      " create mode 100644 .ipynb_checkpoints/Untitled-checkpoint.ipynb\n",
      " create mode 100644 Untitled.ipynb\n",
      " create mode 100644 __pycache__/build_features.cpython-38.pyc\n",
      " create mode 100644 __pycache__/featurization.cpython-38.pyc\n",
      " create mode 100644 __pycache__/params.cpython-38.pyc\n",
      " create mode 100644 build_features.py\n",
      " create mode 100644 configs/train_config.yaml\n",
      " create mode 100644 configs/train_config_notebook.yaml\n",
      " create mode 100644 data/data_featurized.csv\n",
      " create mode 100644 data/data_target.csv\n",
      " create mode 100644 data/test.csv\n",
      " create mode 100644 data/test_target.csv\n",
      " create mode 100644 data/train.csv\n",
      " create mode 100644 data/train_target.csv\n",
      " create mode 100644 data/wines_SPA.csv\n",
      " create mode 100644 evaluate.py\n",
      " create mode 100644 featurization.py\n",
      " create mode 100644 models/metrics.json\n",
      " create mode 100644 models/model.pkl\n",
      " create mode 100755 notebooks/.ipynb_checkpoints/eda-checkpoint.ipynb\n",
      " create mode 100644 notebooks/.ipynb_checkpoints/eda_wine_pipeline-checkpoint.ipynb\n",
      " create mode 100644 notebooks/.ipynb_checkpoints/mlflow_v3_wine_price_prediction_fix_trasnforms-checkpoint.ipynb\n",
      " create mode 100644 notebooks/dvc-1-from-scratch.ipynb\n",
      " create mode 100644 notebooks/dvc-3-kaggle-example.ipynb\n",
      " create mode 100755 notebooks/eda.ipynb\n",
      " create mode 100644 notebooks/eda_wine_pipeline.ipynb\n",
      " create mode 100644 notebooks/mlflow_v3_wine_price_prediction_fix_trasnforms.ipynb\n",
      " create mode 100644 params.py\n",
      " create mode 100644 split_dataset.py\n",
      " create mode 100644 train.py\n"
     ]
    }
   ],
   "source": [
    "%%bash\n",
    "git add .\n",
    "git commit -m \"initialize dvc\""
   ]
  },
  {
   "cell_type": "markdown",
   "id": "1c271457",
   "metadata": {},
   "source": [
    "#### Review files and directories created by DVC"
   ]
  },
  {
   "cell_type": "code",
   "execution_count": 12,
   "id": "fb9fc736",
   "metadata": {},
   "outputs": [
    {
     "name": "stdout",
     "output_type": "stream",
     "text": [
      ".          ..         .gitignore config     tmp\n"
     ]
    }
   ],
   "source": [
    "!ls -a .dvc"
   ]
  },
  {
   "cell_type": "markdown",
   "id": "51f07d7a",
   "metadata": {},
   "source": [
    "#### Configure DVC remotes"
   ]
  },
  {
   "cell_type": "code",
   "execution_count": 13,
   "id": "f8189f16",
   "metadata": {},
   "outputs": [
    {
     "name": "stdout",
     "output_type": "stream",
     "text": [
      "Setting 'myremote' as a default remote.\r\n"
     ]
    }
   ],
   "source": [
    "!dvc remote add -d -f myremote /tmp/dvc-storage"
   ]
  },
  {
   "cell_type": "code",
   "execution_count": 15,
   "id": "25cb19ca",
   "metadata": {},
   "outputs": [
    {
     "name": "stdout",
     "output_type": "stream",
     "text": [
      "com.apple.launchd.2qgqlu89Tu powerlog\n",
      "com.google.Keystone\n"
     ]
    }
   ],
   "source": [
    "! ls /tmp"
   ]
  },
  {
   "cell_type": "code",
   "execution_count": 16,
   "id": "15ac5fcc",
   "metadata": {},
   "outputs": [
    {
     "name": "stdout",
     "output_type": "stream",
     "text": [
      "[master e253f61] initialize DVC local remote\r\n",
      " 1 file changed, 4 insertions(+)\r\n"
     ]
    }
   ],
   "source": [
    "# commit created config file (result of local remote creation)\n",
    "!git commit .dvc/config -m \"initialize DVC local remote\""
   ]
  },
  {
   "cell_type": "markdown",
   "id": "fe92f286",
   "metadata": {},
   "source": [
    "#### Add files to DVC control"
   ]
  },
  {
   "cell_type": "code",
   "execution_count": 17,
   "id": "1cc67934",
   "metadata": {},
   "outputs": [
    {
     "name": "stdout",
     "output_type": "stream",
     "text": [
      "⠋[?25l                                                                          ⠋ Checking graph Checking graph\n",
      "Adding...                                                                       \n",
      "ERROR:  output 'data/wines_SPA.csv' is already tracked by SCM (e.g. Git).\n",
      "    You can remove it from Git, then add to DVC.\n",
      "        To stop tracking from Git:\n",
      "            git rm -r --cached 'data/wines_SPA.csv'\n",
      "            git commit -m \"stop tracking data/wines_SPA.csv\" \n"
     ]
    }
   ],
   "source": [
    "!dvc add data/wines_SPA.csv"
   ]
  },
  {
   "cell_type": "code",
   "execution_count": 18,
   "id": "ca38a878",
   "metadata": {},
   "outputs": [
    {
     "name": "stdout",
     "output_type": "stream",
     "text": [
      "rm 'data/wines_SPA.csv'\n",
      "[master cf74a36] stop tracking data/wines_SPA.csv\n",
      " 1 file changed, 7501 deletions(-)\n",
      " delete mode 100644 data/wines_SPA.csv\n"
     ]
    }
   ],
   "source": [
    "%%bash\n",
    "git rm -r --cached 'data/wines_SPA.csv'\n",
    "git commit -m \"stop tracking data/wines_SPA.csv\" "
   ]
  },
  {
   "cell_type": "code",
   "execution_count": 19,
   "id": "bb9dfe53",
   "metadata": {},
   "outputs": [
    {
     "name": "stdout",
     "output_type": "stream",
     "text": [
      "\u001b[?25l                                                                          ⠋ Checking graph\n",
      "Adding...                                                                       \n",
      "!\n",
      "  0% Checking cache in '/Users/evgeniimunin/Documents/02_Medium/02_dvc/dvc-art/.\n",
      "                                                                                \n",
      "!\n",
      "  0%|          |Transferring                          0/1 [00:00<?,     ?file/s]\n",
      "100% Adding...|████████████████████████████████████████|1/1 [00:00, 21.09file/s]\n",
      "\n",
      "To track the changes with git, run:\n",
      "\n",
      "    git add data/wines_SPA.csv.dvc data/.gitignore\n",
      "\n",
      "To enable auto staging, run:\n",
      "\n",
      "\tdvc config core.autostage true\n"
     ]
    }
   ],
   "source": [
    "!dvc add data/wines_SPA.csv"
   ]
  },
  {
   "cell_type": "code",
   "execution_count": 20,
   "id": "29b6c4a9",
   "metadata": {},
   "outputs": [
    {
     "name": "stdout",
     "output_type": "stream",
     "text": [
      "?? data/.gitignore\n",
      "?? data/wines_SPA.csv.dvc\n"
     ]
    }
   ],
   "source": [
    "!git status -s data/"
   ]
  },
  {
   "cell_type": "code",
   "execution_count": 21,
   "id": "1d862d71",
   "metadata": {},
   "outputs": [
    {
     "name": "stdout",
     "output_type": "stream",
     "text": [
      "[master c1363e0] add a source dataset\n",
      " 3 files changed, 267 insertions(+), 13 deletions(-)\n",
      " create mode 100644 data/.gitignore\n",
      " create mode 100644 data/wines_SPA.csv.dvc\n"
     ]
    }
   ],
   "source": [
    "%%bash\n",
    "# git commit after each add in dvc\n",
    "git add .\n",
    "git commit -m \"add a source dataset\""
   ]
  },
  {
   "cell_type": "code",
   "execution_count": 23,
   "id": "00b5c916",
   "metadata": {},
   "outputs": [
    {
     "name": "stdout",
     "output_type": "stream",
     "text": [
      "outs:\n",
      "- md5: 44ced17481f753b483b38e8b3c09617b\n",
      "  size: 688191\n",
      "  path: wines_SPA.csv\n"
     ]
    }
   ],
   "source": [
    "%%bash\n",
    "# checkout created wines_SPA.csv.dvc outs\n",
    "cat data/wines_SPA.csv.dvc"
   ]
  },
  {
   "cell_type": "markdown",
   "id": "6e5e0e6d",
   "metadata": {},
   "source": [
    "#### Create and reproduce ML pipeline\n",
    "Stages. Add a pipeline stage with dvc run\n",
    "\n",
    "- extract features\n",
    "- split dataset\n",
    "- train\n",
    "- evaluate"
   ]
  },
  {
   "cell_type": "code",
   "execution_count": 25,
   "id": "80216fb1",
   "metadata": {},
   "outputs": [
    {
     "name": "stdout",
     "output_type": "stream",
     "text": [
      "Running stage 'feature-extraction':\n",
      "> python featurization.py\n",
      "Check schema: TrainingPipelineParams(output_data_featurized_path='data/data_featurized.csv', output_data_train_path='data/train.csv', output_data_test_path='data/test.csv', output_target_train_path='data/train_target.csv', output_target_test_path='data/test_target.csv', output_model_path='models/model.pkl', output_transformer_path='models/transformer.pkl', metric_path='models/metrics.json', splitting_params=SplittingParams(val_size=0.2, random_state=42), feature_params=FeatureParams(categorical_features=['winery', 'wine', 'year', 'region', 'type'], numerical_features=['rating', 'body', 'acidity'], target_col='price'), train_params=TrainingParams(model_type='RandomForestClassifier', random_state=42, max_depth=10, solver='lbfgs', C=1.0), input_data_path='data/wines_SPA.csv')\n",
      "       0         1         2     0     1     ...  1316  1317  1318  1319  1320\n",
      "0  5.153614  1.442967  0.214761   0.0   0.0  ...   0.0   0.0   0.0   1.0   0.0\n",
      "1  5.153614 -0.271420 -3.818549   0.0   0.0  ...   0.0   0.0   1.0   0.0   0.0\n",
      "2  4.349085  1.442967  0.214761   0.0   0.0  ...   0.0   0.0   0.0   0.0   0.0\n",
      "3  4.349085  1.442967  0.214761   0.0   0.0  ...   0.0   0.0   0.0   0.0   0.0\n",
      "4  4.349085  1.442967  0.214761   0.0   0.0  ...   0.0   0.0   0.0   0.0   0.0\n",
      "\n",
      "[5 rows x 1324 columns]\n",
      "0    995.00\n",
      "1    313.50\n",
      "2    324.95\n",
      "3    692.96\n",
      "4    778.06\n",
      "Name: price, dtype: float64\n",
      "Creating 'dvc.yaml'\n",
      "Adding stage 'feature-extraction' in 'dvc.yaml'\n",
      "Generating lock file 'dvc.lock'\n",
      "Updating lock file 'dvc.lock'\n",
      "\n",
      "To track the changes with git, run:\n",
      "\n",
      "    git add dvc.lock data/.gitignore dvc.yaml\n",
      "\n",
      "To enable auto staging, run:\n",
      "\n",
      "\tdvc config core.autostage true\n"
     ]
    }
   ],
   "source": [
    "%%bash\n",
    "# feature extraction\n",
    "dvc run -n feature-extraction \\\n",
    "    -d featurization.py \\\n",
    "    -d data/wines_SPA.csv \\\n",
    "    -o data/data_featurized.csv \\\n",
    "    -o data/data_target.csv \\\n",
    "    python featurization.py"
   ]
  },
  {
   "cell_type": "code",
   "execution_count": 28,
   "id": "7d6464dc",
   "metadata": {},
   "outputs": [
    {
     "name": "stdout",
     "output_type": "stream",
     "text": [
      "Running stage 'split-dataset':\n",
      "> python split_dataset.py\n",
      "Check schema: TrainingPipelineParams(output_data_featurized_path='data/data_featurized.csv', output_data_train_path='data/train.csv', output_data_test_path='data/test.csv', output_target_train_path='data/train_target.csv', output_target_test_path='data/test_target.csv', output_model_path='models/model.pkl', output_transformer_path='models/transformer.pkl', metric_path='models/metrics.json', splitting_params=SplittingParams(val_size=0.2, random_state=42), feature_params=FeatureParams(categorical_features=['winery', 'wine', 'year', 'region', 'type'], numerical_features=['rating', 'body', 'acidity'], target_col='price'), train_params=TrainingParams(model_type='RandomForestClassifier', random_state=42, max_depth=10, solver='lbfgs', C=1.0), input_data_path='data/wines_SPA.csv')\n",
      "((5063, 1324), (1266, 1324))\n",
      "((5063, 1), (1266, 1))\n",
      "Modifying stage 'split-dataset' in 'dvc.yaml'\n",
      "Updating lock file 'dvc.lock'\n",
      "\n",
      "To track the changes with git, run:\n",
      "\n",
      "    git add dvc.yaml dvc.lock data/.gitignore\n",
      "\n",
      "To enable auto staging, run:\n",
      "\n",
      "\tdvc config core.autostage true\n"
     ]
    }
   ],
   "source": [
    "%%bash\n",
    "# split dataset\n",
    "dvc run --force -n split-dataset \\\n",
    "    -d split_dataset.py \\\n",
    "    -d data/data_featurized.csv \\\n",
    "    -o data/train.csv \\\n",
    "    -o data/test.csv \\\n",
    "    -o data/train_target.csv \\\n",
    "    -o data/test_target.csv \\\n",
    "    python split_dataset.py"
   ]
  },
  {
   "cell_type": "code",
   "execution_count": 39,
   "id": "a0069d22",
   "metadata": {},
   "outputs": [
    {
     "name": "stdout",
     "output_type": "stream",
     "text": [
      "Stage 'train' is cached - skipping run, checking out outputs\n",
      "Modifying stage 'train' in 'dvc.yaml'\n",
      "\n",
      "To track the changes with git, run:\n",
      "\n",
      "    git add dvc.yaml\n",
      "\n",
      "To enable auto staging, run:\n",
      "\n",
      "\tdvc config core.autostage true\n"
     ]
    }
   ],
   "source": [
    "%%bash\n",
    "# train\n",
    "dvc run --force -n train \\\n",
    "    -d train.py \\\n",
    "    -d data/train.csv \\\n",
    "    -d data/train_target.csv \\\n",
    "    -o models/model.pkl \\\n",
    "    python train.py"
   ]
  },
  {
   "cell_type": "code",
   "execution_count": 43,
   "id": "28b10765",
   "metadata": {},
   "outputs": [
    {
     "name": "stdout",
     "output_type": "stream",
     "text": [
      "+------------------------+ \r\n",
      "| data/wines_SPA.csv.dvc | \r\n",
      "+------------------------+ \r\n",
      "             *             \r\n",
      "             *             \r\n",
      "             *             \r\n",
      "  +--------------------+   \r\n",
      "  | feature-extraction |   \r\n",
      "  +--------------------+   \r\n",
      "             *             \r\n",
      "             *             \r\n",
      "             *             \r\n",
      "    +---------------+      \r\n",
      "    | split-dataset |      \r\n",
      "    +---------------+      \r\n",
      "             *             \r\n",
      "             *             \r\n",
      "             *             \r\n",
      "        +-------+          \r\n",
      "        | train |          \r\n",
      "        +-------+          \r\n"
     ]
    }
   ],
   "source": [
    "!dvc dag"
   ]
  },
  {
   "cell_type": "code",
   "execution_count": 47,
   "id": "8b4c7c7e",
   "metadata": {},
   "outputs": [
    {
     "name": "stdout",
     "output_type": "stream",
     "text": [
      "rm 'models/metrics.json'\n",
      "[master 78c85e0] stop tracking models/metrics.json\n",
      " 8 files changed, 25323 deletions(-)\n",
      " delete mode 100644 data/data_featurized.csv\n",
      " delete mode 100644 data/data_target.csv\n",
      " delete mode 100644 data/test.csv\n",
      " delete mode 100644 data/test_target.csv\n",
      " delete mode 100644 data/train.csv\n",
      " delete mode 100644 data/train_target.csv\n",
      " delete mode 100644 models/metrics.json\n",
      " delete mode 100644 models/model.pkl\n"
     ]
    }
   ],
   "source": [
    "%%bash\n",
    "git rm -r --cached 'models/metrics.json'\n",
    "git commit -m \"stop tracking models/metrics.json\" "
   ]
  },
  {
   "cell_type": "code",
   "execution_count": 67,
   "id": "a095f326",
   "metadata": {},
   "outputs": [
    {
     "name": "stdout",
     "output_type": "stream",
     "text": [
      "Stage 'evaluate' is cached - skipping run, checking out outputs\n",
      "Modifying stage 'evaluate' in 'dvc.yaml'\n",
      "\n",
      "To track the changes with git, run:\n",
      "\n",
      "    git add dvc.yaml\n",
      "\n",
      "To enable auto staging, run:\n",
      "\n",
      "\tdvc config core.autostage true\n"
     ]
    }
   ],
   "source": [
    "%%bash\n",
    "# evaluate\n",
    "dvc run --force -n evaluate \\\n",
    "    -d evaluate.py \\\n",
    "    -d data/test.csv \\\n",
    "    -d data/test_target.csv \\\n",
    "    -m models/metrics.json \\\n",
    "    python evaluate.py"
   ]
  },
  {
   "cell_type": "markdown",
   "id": "14a66667",
   "metadata": {},
   "source": [
    "#### Reproduce experiment and check metrics"
   ]
  },
  {
   "cell_type": "code",
   "execution_count": 69,
   "id": "e4904788",
   "metadata": {},
   "outputs": [
    {
     "name": "stdout",
     "output_type": "stream",
     "text": [
      "Verifying data sources in stage: 'data/wines_SPA.csv.dvc'             \n",
      "\n",
      "Running stage 'feature-extraction':\n",
      "> python featurization.py\n",
      "Check schema: TrainingPipelineParams(output_data_featurized_path='data/data_featurized.csv', output_data_train_path='data/train.csv', output_data_test_path='data/test.csv', output_target_train_path='data/train_target.csv', output_target_test_path='data/test_target.csv', output_model_path='models/model.pkl', output_transformer_path='models/transformer.pkl', metric_path='models/metrics.json', splitting_params=SplittingParams(val_size=0.2, random_state=42), feature_params=FeatureParams(categorical_features=['winery', 'wine', 'year', 'region', 'type'], numerical_features=['rating', 'body', 'acidity'], target_col='price'), train_params=TrainingParams(model_type='RandomForestClassifier', random_state=42, max_depth=10, solver='lbfgs', C=1.0), input_data_path='data/wines_SPA.csv')\n",
      "       0         1         2     0     1     ...  1316  1317  1318  1319  1320\n",
      "0  5.153614  1.442967  0.214761   0.0   0.0  ...   0.0   0.0   0.0   1.0   0.0\n",
      "1  5.153614 -0.271420 -3.818549   0.0   0.0  ...   0.0   0.0   1.0   0.0   0.0\n",
      "2  4.349085  1.442967  0.214761   0.0   0.0  ...   0.0   0.0   0.0   0.0   0.0\n",
      "3  4.349085  1.442967  0.214761   0.0   0.0  ...   0.0   0.0   0.0   0.0   0.0\n",
      "4  4.349085  1.442967  0.214761   0.0   0.0  ...   0.0   0.0   0.0   0.0   0.0\n",
      "\n",
      "[5 rows x 1324 columns]\n",
      "0    995.00\n",
      "1    313.50\n",
      "2    324.95\n",
      "3    692.96\n",
      "4    778.06\n",
      "Name: price, dtype: float64\n",
      "                                                                      \n",
      "Running stage 'split-dataset':\n",
      "> python split_dataset.py\n",
      "Check schema: TrainingPipelineParams(output_data_featurized_path='data/data_featurized.csv', output_data_train_path='data/train.csv', output_data_test_path='data/test.csv', output_target_train_path='data/train_target.csv', output_target_test_path='data/test_target.csv', output_model_path='models/model.pkl', output_transformer_path='models/transformer.pkl', metric_path='models/metrics.json', splitting_params=SplittingParams(val_size=0.2, random_state=42), feature_params=FeatureParams(categorical_features=['winery', 'wine', 'year', 'region', 'type'], numerical_features=['rating', 'body', 'acidity'], target_col='price'), train_params=TrainingParams(model_type='RandomForestClassifier', random_state=42, max_depth=10, solver='lbfgs', C=1.0), input_data_path='data/wines_SPA.csv')\n",
      "((5063, 1324), (1266, 1324))\n",
      "((5063, 1), (1266, 1))\n",
      "                                                                      \n",
      "Running stage 'evaluate':\n",
      "> python evaluate.py\n",
      "Check schema: TrainingPipelineParams(output_data_featurized_path='data/data_featurized.csv', output_data_train_path='data/train.csv', output_data_test_path='data/test.csv', output_target_train_path='data/train_target.csv', output_target_test_path='data/test_target.csv', output_model_path='models/model.pkl', output_transformer_path='models/transformer.pkl', metric_path='models/metrics.json', splitting_params=SplittingParams(val_size=0.2, random_state=42), feature_params=FeatureParams(categorical_features=['winery', 'wine', 'year', 'region', 'type'], numerical_features=['rating', 'body', 'acidity'], target_col='price'), train_params=TrainingParams(model_type='RandomForestClassifier', random_state=42, max_depth=10, solver='lbfgs', C=1.0), input_data_path='data/wines_SPA.csv')\n",
      "                                                                      \n",
      "Running stage 'train':\n",
      "> python train.py\n",
      "Check schema: TrainingPipelineParams(output_data_featurized_path='data/data_featurized.csv', output_data_train_path='data/train.csv', output_data_test_path='data/test.csv', output_target_train_path='data/train_target.csv', output_target_test_path='data/test_target.csv', output_model_path='models/model.pkl', output_transformer_path='models/transformer.pkl', metric_path='models/metrics.json', splitting_params=SplittingParams(val_size=0.2, random_state=42), feature_params=FeatureParams(categorical_features=['winery', 'wine', 'year', 'region', 'type'], numerical_features=['rating', 'body', 'acidity'], target_col='price'), train_params=TrainingParams(model_type='RandomForestClassifier', random_state=42, max_depth=10, solver='lbfgs', C=1.0), input_data_path='data/wines_SPA.csv')\n",
      "Index(['price'], dtype='object')\n",
      "(5063, 1324) (5063,)\n",
      "                                                                      \n",
      "To track the changes with git, run:\n",
      "\n",
      "    git add data/wines_SPA.csv.dvc\n",
      "\n",
      "To enable auto staging, run:\n",
      "\n",
      "\tdvc config core.autostage true\n",
      "Use `dvc push` to send your updates to remote storage.\n"
     ]
    }
   ],
   "source": [
    "!dvc repro -f"
   ]
  },
  {
   "cell_type": "code",
   "execution_count": 68,
   "id": "01747340",
   "metadata": {},
   "outputs": [
    {
     "name": "stdout",
     "output_type": "stream",
     "text": [
      "Path                 r2_score                                         \n",
      "models/metrics.json  0.54166\n"
     ]
    }
   ],
   "source": [
    "!dvc metrics show"
   ]
  },
  {
   "cell_type": "code",
   "execution_count": 66,
   "id": "b0a8a9ba",
   "metadata": {},
   "outputs": [
    {
     "name": "stdout",
     "output_type": "stream",
     "text": [
      "[master cbc2c70] pipeline experiment\r\n",
      " 5 files changed, 1167 insertions(+), 28 deletions(-)\r\n"
     ]
    }
   ],
   "source": [
    "!git add data\n",
    "!git commit -a -m \"pipeline experiment\""
   ]
  },
  {
   "cell_type": "code",
   "execution_count": null,
   "id": "dd6976d5",
   "metadata": {},
   "outputs": [],
   "source": []
  }
 ],
 "metadata": {
  "kernelspec": {
   "display_name": "Python 3",
   "language": "python",
   "name": "python3"
  },
  "language_info": {
   "codemirror_mode": {
    "name": "ipython",
    "version": 3
   },
   "file_extension": ".py",
   "mimetype": "text/x-python",
   "name": "python",
   "nbconvert_exporter": "python",
   "pygments_lexer": "ipython3",
   "version": "3.8.8"
  }
 },
 "nbformat": 4,
 "nbformat_minor": 5
}
