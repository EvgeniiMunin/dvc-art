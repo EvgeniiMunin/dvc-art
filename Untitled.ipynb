{
 "cells": [
  {
   "cell_type": "code",
   "execution_count": 1,
   "id": "39621a11",
   "metadata": {},
   "outputs": [
    {
     "data": {
      "text/plain": [
       "'2.11.0'"
      ]
     },
     "execution_count": 1,
     "metadata": {},
     "output_type": "execute_result"
    }
   ],
   "source": [
    "import dvc\n",
    "dvc.__version__"
   ]
  },
  {
   "cell_type": "code",
   "execution_count": 4,
   "id": "b9ffa54e",
   "metadata": {},
   "outputs": [
    {
     "name": "stdout",
     "output_type": "stream",
     "text": [
      "Untitled.ipynb    configs           featurization.py  params.py\n",
      "__pycache__       data              models            split_dataset.py\n",
      "build_features.py evaluate.py       notebooks         train.py\n"
     ]
    }
   ],
   "source": [
    "!ls"
   ]
  },
  {
   "cell_type": "code",
   "execution_count": 3,
   "id": "efd4a083",
   "metadata": {},
   "outputs": [
    {
     "name": "stdout",
     "output_type": "stream",
     "text": [
      "Initialized empty Git repository in /Users/evgeniimunin/Documents/02_Medium/02_dvc/dvc-art/.git/\r\n"
     ]
    }
   ],
   "source": [
    "# initizalize git in our folder\n",
    "!git init"
   ]
  },
  {
   "cell_type": "code",
   "execution_count": 6,
   "id": "a34a8a84",
   "metadata": {},
   "outputs": [
    {
     "name": "stdout",
     "output_type": "stream",
     "text": [
      "On branch master\n",
      "\n",
      "No commits yet\n",
      "\n",
      "Untracked files:\n",
      "  (use \"git add <file>...\" to include in what will be committed)\n",
      "\t.DS_Store\n",
      "\t.idea/\n",
      "\t.ipynb_checkpoints/\n",
      "\tUntitled.ipynb\n",
      "\t__pycache__/\n",
      "\tbuild_features.py\n",
      "\tconfigs/\n",
      "\tdata/\n",
      "\tevaluate.py\n",
      "\tfeaturization.py\n",
      "\tmodels/\n",
      "\tnotebooks/\n",
      "\tparams.py\n",
      "\tsplit_dataset.py\n",
      "\ttrain.py\n",
      "\n",
      "nothing added to commit but untracked files present (use \"git add\" to track)\n"
     ]
    }
   ],
   "source": [
    "!git status"
   ]
  },
  {
   "cell_type": "code",
   "execution_count": 7,
   "id": "c51c2361",
   "metadata": {},
   "outputs": [],
   "source": [
    "import warnings\n",
    "warnings.filterwarnings('ignore')"
   ]
  },
  {
   "cell_type": "markdown",
   "id": "e563f67c",
   "metadata": {},
   "source": [
    "#### Init DVC"
   ]
  },
  {
   "cell_type": "code",
   "execution_count": 8,
   "id": "21529518",
   "metadata": {},
   "outputs": [
    {
     "name": "stdout",
     "output_type": "stream",
     "text": [
      "Initialized DVC repository.\n",
      "\n",
      "You can now commit the changes to git.\n",
      "\n",
      "+---------------------------------------------------------------------+\n",
      "|                                                                     |\n",
      "|        DVC has enabled anonymous aggregate usage analytics.         |\n",
      "|     Read the analytics documentation (and how to opt-out) here:     |\n",
      "|             <https://dvc.org/doc/user-guide/analytics>              |\n",
      "|                                                                     |\n",
      "+---------------------------------------------------------------------+\n",
      "\n",
      "What's next?\n",
      "------------\n",
      "- Check out the documentation: <https://dvc.org/doc>\n",
      "- Get help and share ideas: <https://dvc.org/chat>\n",
      "- Star us on GitHub: <https://github.com/iterative/dvc>\n"
     ]
    }
   ],
   "source": [
    "# run dvc initialization in a repo directory to create DVC meta files and directories\n",
    "!dvc init"
   ]
  },
  {
   "cell_type": "markdown",
   "id": "6922848f",
   "metadata": {},
   "source": [
    "#### Commit changes"
   ]
  },
  {
   "cell_type": "code",
   "execution_count": 11,
   "id": "8b4f6c6a",
   "metadata": {},
   "outputs": [
    {
     "name": "stdout",
     "output_type": "stream",
     "text": [
      "[master (root-commit) ad77694] initialize dvc\n",
      " 40 files changed, 43591 insertions(+)\n",
      " create mode 100644 .DS_Store\n",
      " create mode 100644 .dvc/.gitignore\n",
      " create mode 100644 .dvc/config\n",
      " create mode 100644 .dvcignore\n",
      " create mode 100644 .idea/.gitignore\n",
      " create mode 100644 .idea/dvc-art.iml\n",
      " create mode 100644 .idea/inspectionProfiles/profiles_settings.xml\n",
      " create mode 100644 .idea/misc.xml\n",
      " create mode 100644 .idea/modules.xml\n",
      " create mode 100644 .idea/vcs.xml\n",
      " create mode 100644 .ipynb_checkpoints/Untitled-checkpoint.ipynb\n",
      " create mode 100644 Untitled.ipynb\n",
      " create mode 100644 __pycache__/build_features.cpython-38.pyc\n",
      " create mode 100644 __pycache__/featurization.cpython-38.pyc\n",
      " create mode 100644 __pycache__/params.cpython-38.pyc\n",
      " create mode 100644 build_features.py\n",
      " create mode 100644 configs/train_config.yaml\n",
      " create mode 100644 configs/train_config_notebook.yaml\n",
      " create mode 100644 data/data_featurized.csv\n",
      " create mode 100644 data/data_target.csv\n",
      " create mode 100644 data/test.csv\n",
      " create mode 100644 data/test_target.csv\n",
      " create mode 100644 data/train.csv\n",
      " create mode 100644 data/train_target.csv\n",
      " create mode 100644 data/wines_SPA.csv\n",
      " create mode 100644 evaluate.py\n",
      " create mode 100644 featurization.py\n",
      " create mode 100644 models/metrics.json\n",
      " create mode 100644 models/model.pkl\n",
      " create mode 100755 notebooks/.ipynb_checkpoints/eda-checkpoint.ipynb\n",
      " create mode 100644 notebooks/.ipynb_checkpoints/eda_wine_pipeline-checkpoint.ipynb\n",
      " create mode 100644 notebooks/.ipynb_checkpoints/mlflow_v3_wine_price_prediction_fix_trasnforms-checkpoint.ipynb\n",
      " create mode 100644 notebooks/dvc-1-from-scratch.ipynb\n",
      " create mode 100644 notebooks/dvc-3-kaggle-example.ipynb\n",
      " create mode 100755 notebooks/eda.ipynb\n",
      " create mode 100644 notebooks/eda_wine_pipeline.ipynb\n",
      " create mode 100644 notebooks/mlflow_v3_wine_price_prediction_fix_trasnforms.ipynb\n",
      " create mode 100644 params.py\n",
      " create mode 100644 split_dataset.py\n",
      " create mode 100644 train.py\n"
     ]
    }
   ],
   "source": [
    "%%bash\n",
    "git add .\n",
    "git commit -m \"initialize dvc\""
   ]
  },
  {
   "cell_type": "markdown",
   "id": "aeb794f5",
   "metadata": {},
   "source": [
    "#### Review files and directories created by DVC"
   ]
  },
  {
   "cell_type": "code",
   "execution_count": 12,
   "id": "486a14d0",
   "metadata": {},
   "outputs": [
    {
     "name": "stdout",
     "output_type": "stream",
     "text": [
      ".          ..         .gitignore config     tmp\n"
     ]
    }
   ],
   "source": [
    "!ls -a .dvc"
   ]
  },
  {
   "cell_type": "markdown",
   "id": "23f30141",
   "metadata": {},
   "source": [
    "#### Configure DVC remotes"
   ]
  },
  {
   "cell_type": "code",
   "execution_count": 13,
   "id": "c337b814",
   "metadata": {},
   "outputs": [
    {
     "name": "stdout",
     "output_type": "stream",
     "text": [
      "Setting 'myremote' as a default remote.\r\n"
     ]
    }
   ],
   "source": [
    "!dvc remote add -d -f myremote /tmp/dvc-storage"
   ]
  },
  {
   "cell_type": "code",
   "execution_count": 15,
   "id": "51696de5",
   "metadata": {},
   "outputs": [
    {
     "name": "stdout",
     "output_type": "stream",
     "text": [
      "com.apple.launchd.2qgqlu89Tu powerlog\n",
      "com.google.Keystone\n"
     ]
    }
   ],
   "source": [
    "! ls /tmp"
   ]
  },
  {
   "cell_type": "code",
   "execution_count": 16,
   "id": "a9244c7e",
   "metadata": {},
   "outputs": [
    {
     "name": "stdout",
     "output_type": "stream",
     "text": [
      "[master e253f61] initialize DVC local remote\r\n",
      " 1 file changed, 4 insertions(+)\r\n"
     ]
    }
   ],
   "source": [
    "# commit created config file (result of local remote creation)\n",
    "!git commit .dvc/config -m \"initialize DVC local remote\""
   ]
  },
  {
   "cell_type": "markdown",
   "id": "b0767f04",
   "metadata": {},
   "source": [
    "#### Add files to DVC control"
   ]
  },
  {
   "cell_type": "code",
   "execution_count": 17,
   "id": "c35db608",
   "metadata": {},
   "outputs": [
    {
     "name": "stdout",
     "output_type": "stream",
     "text": [
      "⠋[?25l                                                                          ⠋ Checking graph Checking graph\n",
      "Adding...                                                                       \n",
      "ERROR:  output 'data/wines_SPA.csv' is already tracked by SCM (e.g. Git).\n",
      "    You can remove it from Git, then add to DVC.\n",
      "        To stop tracking from Git:\n",
      "            git rm -r --cached 'data/wines_SPA.csv'\n",
      "            git commit -m \"stop tracking data/wines_SPA.csv\" \n"
     ]
    }
   ],
   "source": [
    "!dvc add data/wines_SPA.csv"
   ]
  },
  {
   "cell_type": "code",
   "execution_count": 18,
   "id": "f94dee95",
   "metadata": {},
   "outputs": [
    {
     "name": "stdout",
     "output_type": "stream",
     "text": [
      "rm 'data/wines_SPA.csv'\n",
      "[master cf74a36] stop tracking data/wines_SPA.csv\n",
      " 1 file changed, 7501 deletions(-)\n",
      " delete mode 100644 data/wines_SPA.csv\n"
     ]
    }
   ],
   "source": [
    "%%bash\n",
    "git rm -r --cached 'data/wines_SPA.csv'\n",
    "git commit -m \"stop tracking data/wines_SPA.csv\" "
   ]
  },
  {
   "cell_type": "code",
   "execution_count": 19,
   "id": "cc34eaa2",
   "metadata": {},
   "outputs": [
    {
     "name": "stdout",
     "output_type": "stream",
     "text": [
      "\u001b[?25l                                                                          ⠋ Checking graph\n",
      "Adding...                                                                       \n",
      "!\n",
      "  0% Checking cache in '/Users/evgeniimunin/Documents/02_Medium/02_dvc/dvc-art/.\n",
      "                                                                                \n",
      "!\n",
      "  0%|          |Transferring                          0/1 [00:00<?,     ?file/s]\n",
      "100% Adding...|████████████████████████████████████████|1/1 [00:00, 21.09file/s]\n",
      "\n",
      "To track the changes with git, run:\n",
      "\n",
      "    git add data/wines_SPA.csv.dvc data/.gitignore\n",
      "\n",
      "To enable auto staging, run:\n",
      "\n",
      "\tdvc config core.autostage true\n"
     ]
    }
   ],
   "source": [
    "!dvc add data/wines_SPA.csv"
   ]
  },
  {
   "cell_type": "code",
   "execution_count": 20,
   "id": "9acf1905",
   "metadata": {},
   "outputs": [
    {
     "name": "stdout",
     "output_type": "stream",
     "text": [
      "?? data/.gitignore\n",
      "?? data/wines_SPA.csv.dvc\n"
     ]
    }
   ],
   "source": [
    "!git status -s data/"
   ]
  },
  {
   "cell_type": "code",
   "execution_count": null,
   "id": "758c3463",
   "metadata": {},
   "outputs": [],
   "source": [
    "%%bash"
   ]
  }
 ],
 "metadata": {
  "kernelspec": {
   "display_name": "Python 3",
   "language": "python",
   "name": "python3"
  },
  "language_info": {
   "codemirror_mode": {
    "name": "ipython",
    "version": 3
   },
   "file_extension": ".py",
   "mimetype": "text/x-python",
   "name": "python",
   "nbconvert_exporter": "python",
   "pygments_lexer": "ipython3",
   "version": "3.8.8"
  }
 },
 "nbformat": 4,
 "nbformat_minor": 5
}
