{
 "cells": [
  {
   "cell_type": "code",
   "execution_count": 1,
   "id": "55c54900",
   "metadata": {},
   "outputs": [
    {
     "data": {
      "text/plain": [
       "'2.11.0'"
      ]
     },
     "execution_count": 1,
     "metadata": {},
     "output_type": "execute_result"
    }
   ],
   "source": [
    "import dvc\n",
    "dvc.__version__"
   ]
  },
  {
   "cell_type": "code",
   "execution_count": 4,
   "id": "1989eee4",
   "metadata": {},
   "outputs": [
    {
     "name": "stdout",
     "output_type": "stream",
     "text": [
      "Untitled.ipynb    configs           featurization.py  params.py\n",
      "__pycache__       data              models            split_dataset.py\n",
      "build_features.py evaluate.py       notebooks         train.py\n"
     ]
    }
   ],
   "source": [
    "!ls"
   ]
  },
  {
   "cell_type": "code",
   "execution_count": 3,
   "id": "38c00ee8",
   "metadata": {},
   "outputs": [
    {
     "name": "stdout",
     "output_type": "stream",
     "text": [
      "Initialized empty Git repository in /Users/evgeniimunin/Documents/02_Medium/02_dvc/dvc-art/.git/\r\n"
     ]
    }
   ],
   "source": [
    "# initizalize git in our folder\n",
    "!git init"
   ]
  },
  {
   "cell_type": "code",
   "execution_count": 6,
   "id": "26beaa01",
   "metadata": {},
   "outputs": [
    {
     "name": "stdout",
     "output_type": "stream",
     "text": [
      "On branch master\n",
      "\n",
      "No commits yet\n",
      "\n",
      "Untracked files:\n",
      "  (use \"git add <file>...\" to include in what will be committed)\n",
      "\t.DS_Store\n",
      "\t.idea/\n",
      "\t.ipynb_checkpoints/\n",
      "\tUntitled.ipynb\n",
      "\t__pycache__/\n",
      "\tbuild_features.py\n",
      "\tconfigs/\n",
      "\tdata/\n",
      "\tevaluate.py\n",
      "\tfeaturization.py\n",
      "\tmodels/\n",
      "\tnotebooks/\n",
      "\tparams.py\n",
      "\tsplit_dataset.py\n",
      "\ttrain.py\n",
      "\n",
      "nothing added to commit but untracked files present (use \"git add\" to track)\n"
     ]
    }
   ],
   "source": [
    "!git status"
   ]
  },
  {
   "cell_type": "code",
   "execution_count": 7,
   "id": "7d4a63a7",
   "metadata": {},
   "outputs": [],
   "source": [
    "import warnings\n",
    "warnings.filterwarnings('ignore')"
   ]
  },
  {
   "cell_type": "markdown",
   "id": "5d86d007",
   "metadata": {},
   "source": [
    "#### Init DVC"
   ]
  },
  {
   "cell_type": "code",
   "execution_count": 8,
   "id": "970b6235",
   "metadata": {},
   "outputs": [
    {
     "name": "stdout",
     "output_type": "stream",
     "text": [
      "Initialized DVC repository.\n",
      "\n",
      "You can now commit the changes to git.\n",
      "\n",
      "+---------------------------------------------------------------------+\n",
      "|                                                                     |\n",
      "|        DVC has enabled anonymous aggregate usage analytics.         |\n",
      "|     Read the analytics documentation (and how to opt-out) here:     |\n",
      "|             <https://dvc.org/doc/user-guide/analytics>              |\n",
      "|                                                                     |\n",
      "+---------------------------------------------------------------------+\n",
      "\n",
      "What's next?\n",
      "------------\n",
      "- Check out the documentation: <https://dvc.org/doc>\n",
      "- Get help and share ideas: <https://dvc.org/chat>\n",
      "- Star us on GitHub: <https://github.com/iterative/dvc>\n"
     ]
    }
   ],
   "source": [
    "# run dvc initialization in a repo directory to create DVC meta files and directories\n",
    "!dvc init"
   ]
  },
  {
   "cell_type": "markdown",
   "id": "5e8b9df7",
   "metadata": {},
   "source": [
    "#### Commit changes"
   ]
  },
  {
   "cell_type": "code",
   "execution_count": null,
   "id": "ec6b5329",
   "metadata": {},
   "outputs": [],
   "source": [
    "%%bash\n",
    "git add .\n",
    "git commit -m \"initialize dvc\""
   ]
  },
  {
   "cell_type": "code",
   "execution_count": null,
   "id": "d485c013",
   "metadata": {},
   "outputs": [],
   "source": []
  }
 ],
 "metadata": {
  "kernelspec": {
   "display_name": "Python 3",
   "language": "python",
   "name": "python3"
  },
  "language_info": {
   "codemirror_mode": {
    "name": "ipython",
    "version": 3
   },
   "file_extension": ".py",
   "mimetype": "text/x-python",
   "name": "python",
   "nbconvert_exporter": "python",
   "pygments_lexer": "ipython3",
   "version": "3.8.8"
  }
 },
 "nbformat": 4,
 "nbformat_minor": 5
}
